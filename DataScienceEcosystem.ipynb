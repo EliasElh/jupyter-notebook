{
  "nbformat": 4,
  "nbformat_minor": 0,
  "metadata": {
    "colab": {
      "provenance": []
    },
    "kernelspec": {
      "name": "python3",
      "display_name": "Python 3"
    },
    "language_info": {
      "name": "python"
    }
  },
  "cells": [
    {
      "cell_type": "markdown",
      "source": [
        "#Data Science Tools and Ecosystem"
      ],
      "metadata": {
        "id": "VJ6_GZF2oS8c"
      }
    },
    {
      "cell_type": "markdown",
      "source": [
        "This notebook provides a succinct overview of Data Science Tools and Ecosystem.\n",
        "\n",
        "**Objectives :**\n",
        "\n",
        "*   List popular languages that Data Scientists use.\n",
        "*   List commonly used libraries used by Data Scientists.\n",
        "*   Show examples of arithmetics expressions in Python\n"
      ],
      "metadata": {
        "id": "9UWnV2wUrJTX"
      }
    },
    {
      "cell_type": "markdown",
      "source": [
        "Some of the popular languages for data science are :\n",
        "\n",
        "\n",
        "1.   Python\n",
        "2.   R\n",
        "3.   SQL\n",
        "\n",
        "\n",
        "\n",
        "\n"
      ],
      "metadata": {
        "id": "KIldLKHmreG7"
      }
    },
    {
      "cell_type": "markdown",
      "source": [
        "Some of the commonly used libraries used by Data Scientists include :\n",
        "\n",
        "1.   ggplot\n",
        "2.   caret\n",
        "3.   dplyr\n",
        "4.   TensorFlow\n",
        "5.   PyTorch\n",
        "6.   Scikit-learn\n",
        "\n",
        "\n",
        "\n",
        "\n"
      ],
      "metadata": {
        "id": "n9xRxX4Lsw-q"
      }
    },
    {
      "cell_type": "markdown",
      "source": [
        "| Data Science Tools |\n",
        "|--------------------|\n",
        "| Jupyter Notebook   |\n",
        "| RStudio            |\n",
        "| Visual Studio Code |\n"
      ],
      "metadata": {
        "id": "gE2ypww9EVjf"
      }
    },
    {
      "cell_type": "markdown",
      "source": [
        "###Below are a few examples of evaluating arithmetic expressions in Python"
      ],
      "metadata": {
        "id": "hSW6pYBfGHNN"
      }
    },
    {
      "cell_type": "code",
      "source": [
        "# This an arithmetic expression to mutiply then add integers\n",
        "(3*4)+5"
      ],
      "metadata": {
        "colab": {
          "base_uri": "https://localhost:8080/"
        },
        "id": "HVEYPMHnOB6O",
        "outputId": "0d37d139-bbf0-469a-b995-6029c273aa7f"
      },
      "execution_count": 1,
      "outputs": [
        {
          "output_type": "execute_result",
          "data": {
            "text/plain": [
              "17"
            ]
          },
          "metadata": {},
          "execution_count": 1
        }
      ]
    },
    {
      "cell_type": "code",
      "source": [
        "# This will convert 200 minutes to hours by diving by 60\n",
        "time_minutes = 200\n",
        "time_hours = time_minutes / 60\n",
        "print(str(time_minutes) + \" minutes equal \" + str(time_hours) + \" hours.\")"
      ],
      "metadata": {
        "colab": {
          "base_uri": "https://localhost:8080/"
        },
        "id": "TRLnk_vbPGbq",
        "outputId": "691eb339-e5f9-4083-bbed-f4c2ec04be73"
      },
      "execution_count": 6,
      "outputs": [
        {
          "output_type": "stream",
          "name": "stdout",
          "text": [
            "200 minutes equal 3.3333333333333335 hours.\n"
          ]
        }
      ]
    },
    {
      "cell_type": "markdown",
      "source": [
        "##Author :\n",
        "Elias E"
      ],
      "metadata": {
        "id": "laIVmRRNSETQ"
      }
    }
  ]
}